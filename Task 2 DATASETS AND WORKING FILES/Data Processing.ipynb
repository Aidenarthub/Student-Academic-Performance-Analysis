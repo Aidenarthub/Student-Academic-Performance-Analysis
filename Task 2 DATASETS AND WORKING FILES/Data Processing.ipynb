{
 "cells": [
  {
   "cell_type": "code",
   "execution_count": 1,
   "id": "6a556bdf",
   "metadata": {},
   "outputs": [],
   "source": [
    "import pandas as pd\n",
    "import numpy as np"
   ]
  },
  {
   "cell_type": "markdown",
   "id": "d1445f6b",
   "metadata": {},
   "source": [
    "### DEALING WITH CONTENTS TABLE DATA"
   ]
  },
  {
   "cell_type": "code",
   "execution_count": 2,
   "id": "f3650aff",
   "metadata": {},
   "outputs": [],
   "source": [
    "contents=pd.read_csv('Content.csv',index_col='Unnamed: 0')"
   ]
  },
  {
   "cell_type": "code",
   "execution_count": 3,
   "id": "375c0213",
   "metadata": {},
   "outputs": [
    {
     "data": {
      "text/html": [
       "<div>\n",
       "<style scoped>\n",
       "    .dataframe tbody tr th:only-of-type {\n",
       "        vertical-align: middle;\n",
       "    }\n",
       "\n",
       "    .dataframe tbody tr th {\n",
       "        vertical-align: top;\n",
       "    }\n",
       "\n",
       "    .dataframe thead th {\n",
       "        text-align: right;\n",
       "    }\n",
       "</style>\n",
       "<table border=\"1\" class=\"dataframe\">\n",
       "  <thead>\n",
       "    <tr style=\"text-align: right;\">\n",
       "      <th></th>\n",
       "      <th>Content ID</th>\n",
       "      <th>User ID</th>\n",
       "      <th>Type</th>\n",
       "      <th>Category</th>\n",
       "      <th>URL</th>\n",
       "    </tr>\n",
       "  </thead>\n",
       "  <tbody>\n",
       "    <tr>\n",
       "      <th>0</th>\n",
       "      <td>97522e57-d9ab-4bd6-97bf-c24d952602d2</td>\n",
       "      <td>8d3cd87d-8a31-4935-9a4f-b319bfe05f31</td>\n",
       "      <td>photo</td>\n",
       "      <td>Studying</td>\n",
       "      <td>https://socialbuzz.cdn.com/content/storage/975...</td>\n",
       "    </tr>\n",
       "    <tr>\n",
       "      <th>1</th>\n",
       "      <td>9f737e0a-3cdd-4d29-9d24-753f4e3be810</td>\n",
       "      <td>beb1f34e-7870-46d6-9fc7-2e12eb83ce43</td>\n",
       "      <td>photo</td>\n",
       "      <td>healthy eating</td>\n",
       "      <td>https://socialbuzz.cdn.com/content/storage/9f7...</td>\n",
       "    </tr>\n",
       "  </tbody>\n",
       "</table>\n",
       "</div>"
      ],
      "text/plain": [
       "                             Content ID                               User ID  \\\n",
       "0  97522e57-d9ab-4bd6-97bf-c24d952602d2  8d3cd87d-8a31-4935-9a4f-b319bfe05f31   \n",
       "1  9f737e0a-3cdd-4d29-9d24-753f4e3be810  beb1f34e-7870-46d6-9fc7-2e12eb83ce43   \n",
       "\n",
       "    Type        Category                                                URL  \n",
       "0  photo        Studying  https://socialbuzz.cdn.com/content/storage/975...  \n",
       "1  photo  healthy eating  https://socialbuzz.cdn.com/content/storage/9f7...  "
      ]
     },
     "execution_count": 3,
     "metadata": {},
     "output_type": "execute_result"
    }
   ],
   "source": [
    "contents.head(2)"
   ]
  },
  {
   "cell_type": "code",
   "execution_count": 4,
   "id": "cb6207c6",
   "metadata": {},
   "outputs": [
    {
     "name": "stdout",
     "output_type": "stream",
     "text": [
      "Content ID\n",
      "User ID\n",
      "Type\n",
      "Category\n",
      "URL\n"
     ]
    }
   ],
   "source": [
    "for i in contents.columns:\n",
    "    print(i)"
   ]
  },
  {
   "cell_type": "code",
   "execution_count": 5,
   "id": "7b261000",
   "metadata": {},
   "outputs": [
    {
     "data": {
      "text/plain": [
       "Content ID      0\n",
       "User ID         0\n",
       "Type            0\n",
       "Category        0\n",
       "URL           199\n",
       "dtype: int64"
      ]
     },
     "execution_count": 5,
     "metadata": {},
     "output_type": "execute_result"
    }
   ],
   "source": [
    "#checking for the null values\n",
    "contents.isnull().sum()"
   ]
  },
  {
   "cell_type": "markdown",
   "id": "acb93b8d",
   "metadata": {},
   "source": [
    "Here we have 199 null values in the URL column, for our analysis we don't need the URL columns, so we can drop it."
   ]
  },
  {
   "cell_type": "code",
   "execution_count": 6,
   "id": "759cef71",
   "metadata": {},
   "outputs": [],
   "source": [
    "contents.drop(columns=['URL'],inplace=True)"
   ]
  },
  {
   "cell_type": "code",
   "execution_count": 7,
   "id": "c96a3876",
   "metadata": {},
   "outputs": [
    {
     "data": {
      "text/html": [
       "<div>\n",
       "<style scoped>\n",
       "    .dataframe tbody tr th:only-of-type {\n",
       "        vertical-align: middle;\n",
       "    }\n",
       "\n",
       "    .dataframe tbody tr th {\n",
       "        vertical-align: top;\n",
       "    }\n",
       "\n",
       "    .dataframe thead th {\n",
       "        text-align: right;\n",
       "    }\n",
       "</style>\n",
       "<table border=\"1\" class=\"dataframe\">\n",
       "  <thead>\n",
       "    <tr style=\"text-align: right;\">\n",
       "      <th></th>\n",
       "      <th>Content ID</th>\n",
       "      <th>User ID</th>\n",
       "      <th>Type</th>\n",
       "      <th>Category</th>\n",
       "    </tr>\n",
       "  </thead>\n",
       "  <tbody>\n",
       "    <tr>\n",
       "      <th>0</th>\n",
       "      <td>97522e57-d9ab-4bd6-97bf-c24d952602d2</td>\n",
       "      <td>8d3cd87d-8a31-4935-9a4f-b319bfe05f31</td>\n",
       "      <td>photo</td>\n",
       "      <td>Studying</td>\n",
       "    </tr>\n",
       "    <tr>\n",
       "      <th>1</th>\n",
       "      <td>9f737e0a-3cdd-4d29-9d24-753f4e3be810</td>\n",
       "      <td>beb1f34e-7870-46d6-9fc7-2e12eb83ce43</td>\n",
       "      <td>photo</td>\n",
       "      <td>healthy eating</td>\n",
       "    </tr>\n",
       "  </tbody>\n",
       "</table>\n",
       "</div>"
      ],
      "text/plain": [
       "                             Content ID                               User ID  \\\n",
       "0  97522e57-d9ab-4bd6-97bf-c24d952602d2  8d3cd87d-8a31-4935-9a4f-b319bfe05f31   \n",
       "1  9f737e0a-3cdd-4d29-9d24-753f4e3be810  beb1f34e-7870-46d6-9fc7-2e12eb83ce43   \n",
       "\n",
       "    Type        Category  \n",
       "0  photo        Studying  \n",
       "1  photo  healthy eating  "
      ]
     },
     "execution_count": 7,
     "metadata": {},
     "output_type": "execute_result"
    }
   ],
   "source": [
    "contents.head(2)"
   ]
  },
  {
   "cell_type": "code",
   "execution_count": 8,
   "id": "b7e80e4d",
   "metadata": {},
   "outputs": [],
   "source": [
    "#Data Exploration"
   ]
  },
  {
   "cell_type": "code",
   "execution_count": 9,
   "id": "9ebf9c71",
   "metadata": {},
   "outputs": [
    {
     "data": {
      "text/plain": [
       "1000"
      ]
     },
     "execution_count": 9,
     "metadata": {},
     "output_type": "execute_result"
    }
   ],
   "source": [
    "contents['Content ID'].nunique()"
   ]
  },
  {
   "cell_type": "code",
   "execution_count": 10,
   "id": "969e9b81",
   "metadata": {},
   "outputs": [
    {
     "data": {
      "text/plain": [
       "446"
      ]
     },
     "execution_count": 10,
     "metadata": {},
     "output_type": "execute_result"
    }
   ],
   "source": [
    "contents['User ID'].nunique()"
   ]
  },
  {
   "cell_type": "code",
   "execution_count": 11,
   "id": "e24c254e",
   "metadata": {},
   "outputs": [
    {
     "data": {
      "text/plain": [
       "photo    261\n",
       "video    259\n",
       "GIF      244\n",
       "audio    236\n",
       "Name: Type, dtype: int64"
      ]
     },
     "execution_count": 11,
     "metadata": {},
     "output_type": "execute_result"
    }
   ],
   "source": [
    "# getting type of contents and their counts\n",
    "contents['Type'].value_counts()"
   ]
  },
  {
   "cell_type": "code",
   "execution_count": 27,
   "id": "02eee9d4",
   "metadata": {},
   "outputs": [],
   "source": [
    "#DEALING WITH DUPLICATES VALUES"
   ]
  },
  {
   "cell_type": "code",
   "execution_count": 12,
   "id": "5bb85362",
   "metadata": {},
   "outputs": [
    {
     "data": {
      "text/plain": [
       "41"
      ]
     },
     "execution_count": 12,
     "metadata": {},
     "output_type": "execute_result"
    }
   ],
   "source": [
    "# Exploring the Categories\n",
    "contents['Category'].nunique()"
   ]
  },
  {
   "cell_type": "code",
   "execution_count": 13,
   "id": "fd5ea6eb",
   "metadata": {},
   "outputs": [
    {
     "data": {
      "text/plain": [
       "technology           71\n",
       "animals              67\n",
       "travel               67\n",
       "culture              63\n",
       "science              63\n",
       "fitness              61\n",
       "food                 61\n",
       "healthy eating       61\n",
       "cooking              60\n",
       "soccer               58\n",
       "tennis               58\n",
       "education            57\n",
       "dogs                 56\n",
       "studying             55\n",
       "veganism             48\n",
       "public speaking      48\n",
       "Fitness               5\n",
       "Animals               4\n",
       "Science               4\n",
       "\"soccer\"              3\n",
       "\"culture\"             3\n",
       "Soccer                3\n",
       "\"dogs\"                2\n",
       "Education             2\n",
       "Studying              2\n",
       "Travel                2\n",
       "Food                  2\n",
       "\"veganism\"            1\n",
       "\"public speaking\"     1\n",
       "Public Speaking       1\n",
       "\"technology\"          1\n",
       "\"cooking\"             1\n",
       "Healthy Eating        1\n",
       "\"studying\"            1\n",
       "\"food\"                1\n",
       "Culture               1\n",
       "\"tennis\"              1\n",
       "Technology            1\n",
       "\"animals\"             1\n",
       "Veganism              1\n",
       "\"science\"             1\n",
       "Name: Category, dtype: int64"
      ]
     },
     "execution_count": 13,
     "metadata": {},
     "output_type": "execute_result"
    }
   ],
   "source": [
    "contents['Category'].value_counts()"
   ]
  },
  {
   "cell_type": "code",
   "execution_count": 14,
   "id": "d4a024c6",
   "metadata": {},
   "outputs": [],
   "source": [
    "old_values=[]\n",
    "filtered_values=[]\n",
    "for i in contents['Category'].unique():\n",
    "    if i[0]=='\"':\n",
    "        old_values.append(i)\n",
    "        filtered_values.append(i.replace('\"',''))"
   ]
  },
  {
   "cell_type": "code",
   "execution_count": 15,
   "id": "a1cb3c85",
   "metadata": {},
   "outputs": [
    {
     "data": {
      "text/plain": [
       "['\"culture\"',\n",
       " '\"studying\"',\n",
       " '\"animals\"',\n",
       " '\"soccer\"',\n",
       " '\"dogs\"',\n",
       " '\"tennis\"',\n",
       " '\"food\"',\n",
       " '\"technology\"',\n",
       " '\"cooking\"',\n",
       " '\"public speaking\"',\n",
       " '\"veganism\"',\n",
       " '\"science\"']"
      ]
     },
     "execution_count": 15,
     "metadata": {},
     "output_type": "execute_result"
    }
   ],
   "source": [
    "old_values"
   ]
  },
  {
   "cell_type": "code",
   "execution_count": 16,
   "id": "fef077fd",
   "metadata": {},
   "outputs": [
    {
     "data": {
      "text/plain": [
       "['culture',\n",
       " 'studying',\n",
       " 'animals',\n",
       " 'soccer',\n",
       " 'dogs',\n",
       " 'tennis',\n",
       " 'food',\n",
       " 'technology',\n",
       " 'cooking',\n",
       " 'public speaking',\n",
       " 'veganism',\n",
       " 'science']"
      ]
     },
     "execution_count": 16,
     "metadata": {},
     "output_type": "execute_result"
    }
   ],
   "source": [
    "filtered_values"
   ]
  },
  {
   "cell_type": "code",
   "execution_count": 17,
   "id": "b8ac78f9",
   "metadata": {},
   "outputs": [],
   "source": [
    "#now replacing the values in the original dataframe\n",
    "contents['Category'].replace(to_replace=old_values,value=filtered_values,inplace=True)"
   ]
  },
  {
   "cell_type": "code",
   "execution_count": 18,
   "id": "d0a195d9",
   "metadata": {},
   "outputs": [
    {
     "data": {
      "text/plain": [
       "29"
      ]
     },
     "execution_count": 18,
     "metadata": {},
     "output_type": "execute_result"
    }
   ],
   "source": [
    "contents['Category'].nunique()"
   ]
  },
  {
   "cell_type": "markdown",
   "id": "7aafb259",
   "metadata": {},
   "source": [
    "we can see that there are few letter starts with small letters and similar names starts with capital letter we have to deal with them."
   ]
  },
  {
   "cell_type": "code",
   "execution_count": 19,
   "id": "b86a94a0",
   "metadata": {},
   "outputs": [],
   "source": [
    "old_values=[]\n",
    "new_caps_values=[]\n",
    "for i in contents['Category'].unique():\n",
    "    old_values.append(i)\n",
    "    new_caps_values.append(i.upper())"
   ]
  },
  {
   "cell_type": "code",
   "execution_count": 20,
   "id": "e14e26b1",
   "metadata": {},
   "outputs": [
    {
     "data": {
      "text/plain": [
       "['Studying',\n",
       " 'healthy eating',\n",
       " 'technology',\n",
       " 'food',\n",
       " 'cooking',\n",
       " 'dogs',\n",
       " 'soccer',\n",
       " 'public speaking',\n",
       " 'science',\n",
       " 'tennis',\n",
       " 'travel',\n",
       " 'fitness',\n",
       " 'education',\n",
       " 'studying',\n",
       " 'veganism',\n",
       " 'Animals',\n",
       " 'animals',\n",
       " 'culture',\n",
       " 'Fitness',\n",
       " 'Veganism',\n",
       " 'Travel',\n",
       " 'Education',\n",
       " 'Technology',\n",
       " 'Soccer',\n",
       " 'Culture',\n",
       " 'Food',\n",
       " 'Healthy Eating',\n",
       " 'Science',\n",
       " 'Public Speaking']"
      ]
     },
     "execution_count": 20,
     "metadata": {},
     "output_type": "execute_result"
    }
   ],
   "source": [
    "old_values"
   ]
  },
  {
   "cell_type": "code",
   "execution_count": 21,
   "id": "74df4d4a",
   "metadata": {},
   "outputs": [
    {
     "data": {
      "text/plain": [
       "['STUDYING',\n",
       " 'HEALTHY EATING',\n",
       " 'TECHNOLOGY',\n",
       " 'FOOD',\n",
       " 'COOKING',\n",
       " 'DOGS',\n",
       " 'SOCCER',\n",
       " 'PUBLIC SPEAKING',\n",
       " 'SCIENCE',\n",
       " 'TENNIS',\n",
       " 'TRAVEL',\n",
       " 'FITNESS',\n",
       " 'EDUCATION',\n",
       " 'STUDYING',\n",
       " 'VEGANISM',\n",
       " 'ANIMALS',\n",
       " 'ANIMALS',\n",
       " 'CULTURE',\n",
       " 'FITNESS',\n",
       " 'VEGANISM',\n",
       " 'TRAVEL',\n",
       " 'EDUCATION',\n",
       " 'TECHNOLOGY',\n",
       " 'SOCCER',\n",
       " 'CULTURE',\n",
       " 'FOOD',\n",
       " 'HEALTHY EATING',\n",
       " 'SCIENCE',\n",
       " 'PUBLIC SPEAKING']"
      ]
     },
     "execution_count": 21,
     "metadata": {},
     "output_type": "execute_result"
    }
   ],
   "source": [
    "new_caps_values"
   ]
  },
  {
   "cell_type": "code",
   "execution_count": 22,
   "id": "d0474f55",
   "metadata": {},
   "outputs": [],
   "source": [
    "contents['Category'].replace(to_replace=old_values,value=new_caps_values,inplace=True)"
   ]
  },
  {
   "cell_type": "code",
   "execution_count": 25,
   "id": "94159431",
   "metadata": {},
   "outputs": [
    {
     "data": {
      "text/plain": [
       "16"
      ]
     },
     "execution_count": 25,
     "metadata": {},
     "output_type": "execute_result"
    }
   ],
   "source": [
    "contents['Category'].nunique()"
   ]
  },
  {
   "cell_type": "code",
   "execution_count": 26,
   "id": "9159fe7b",
   "metadata": {},
   "outputs": [
    {
     "name": "stdout",
     "output_type": "stream",
     "text": [
      "STUDYING\n",
      "HEALTHY EATING\n",
      "TECHNOLOGY\n",
      "FOOD\n",
      "COOKING\n",
      "DOGS\n",
      "SOCCER\n",
      "PUBLIC SPEAKING\n",
      "SCIENCE\n",
      "TENNIS\n",
      "TRAVEL\n",
      "FITNESS\n",
      "EDUCATION\n",
      "VEGANISM\n",
      "ANIMALS\n",
      "CULTURE\n"
     ]
    }
   ],
   "source": [
    "for i in contents['Category'].unique():\n",
    "    print(i)"
   ]
  },
  {
   "cell_type": "code",
   "execution_count": 29,
   "id": "cda6840b",
   "metadata": {},
   "outputs": [],
   "source": [
    "# we don't deal with user id for our project so we can drop User ID\n",
    "contents.drop(columns=['User ID'],inplace=True)"
   ]
  },
  {
   "cell_type": "code",
   "execution_count": 31,
   "id": "2f14cb15",
   "metadata": {},
   "outputs": [
    {
     "data": {
      "text/html": [
       "<div>\n",
       "<style scoped>\n",
       "    .dataframe tbody tr th:only-of-type {\n",
       "        vertical-align: middle;\n",
       "    }\n",
       "\n",
       "    .dataframe tbody tr th {\n",
       "        vertical-align: top;\n",
       "    }\n",
       "\n",
       "    .dataframe thead th {\n",
       "        text-align: right;\n",
       "    }\n",
       "</style>\n",
       "<table border=\"1\" class=\"dataframe\">\n",
       "  <thead>\n",
       "    <tr style=\"text-align: right;\">\n",
       "      <th></th>\n",
       "      <th>Content ID</th>\n",
       "      <th>Type</th>\n",
       "      <th>Category</th>\n",
       "    </tr>\n",
       "  </thead>\n",
       "  <tbody>\n",
       "    <tr>\n",
       "      <th>0</th>\n",
       "      <td>97522e57-d9ab-4bd6-97bf-c24d952602d2</td>\n",
       "      <td>photo</td>\n",
       "      <td>STUDYING</td>\n",
       "    </tr>\n",
       "    <tr>\n",
       "      <th>1</th>\n",
       "      <td>9f737e0a-3cdd-4d29-9d24-753f4e3be810</td>\n",
       "      <td>photo</td>\n",
       "      <td>HEALTHY EATING</td>\n",
       "    </tr>\n",
       "  </tbody>\n",
       "</table>\n",
       "</div>"
      ],
      "text/plain": [
       "                             Content ID   Type        Category\n",
       "0  97522e57-d9ab-4bd6-97bf-c24d952602d2  photo        STUDYING\n",
       "1  9f737e0a-3cdd-4d29-9d24-753f4e3be810  photo  HEALTHY EATING"
      ]
     },
     "execution_count": 31,
     "metadata": {},
     "output_type": "execute_result"
    }
   ],
   "source": [
    "contents.head(2)"
   ]
  },
  {
   "cell_type": "code",
   "execution_count": 32,
   "id": "d5884bea",
   "metadata": {},
   "outputs": [],
   "source": [
    "#rename column name 'Type' to 'Content Type'\n",
    "contents.rename(columns={'Type':'Content Type'},inplace=True)"
   ]
  },
  {
   "cell_type": "code",
   "execution_count": 33,
   "id": "cc8b6687",
   "metadata": {},
   "outputs": [
    {
     "data": {
      "text/html": [
       "<div>\n",
       "<style scoped>\n",
       "    .dataframe tbody tr th:only-of-type {\n",
       "        vertical-align: middle;\n",
       "    }\n",
       "\n",
       "    .dataframe tbody tr th {\n",
       "        vertical-align: top;\n",
       "    }\n",
       "\n",
       "    .dataframe thead th {\n",
       "        text-align: right;\n",
       "    }\n",
       "</style>\n",
       "<table border=\"1\" class=\"dataframe\">\n",
       "  <thead>\n",
       "    <tr style=\"text-align: right;\">\n",
       "      <th></th>\n",
       "      <th>Content ID</th>\n",
       "      <th>Content Type</th>\n",
       "      <th>Category</th>\n",
       "    </tr>\n",
       "  </thead>\n",
       "  <tbody>\n",
       "    <tr>\n",
       "      <th>0</th>\n",
       "      <td>97522e57-d9ab-4bd6-97bf-c24d952602d2</td>\n",
       "      <td>photo</td>\n",
       "      <td>STUDYING</td>\n",
       "    </tr>\n",
       "    <tr>\n",
       "      <th>1</th>\n",
       "      <td>9f737e0a-3cdd-4d29-9d24-753f4e3be810</td>\n",
       "      <td>photo</td>\n",
       "      <td>HEALTHY EATING</td>\n",
       "    </tr>\n",
       "  </tbody>\n",
       "</table>\n",
       "</div>"
      ],
      "text/plain": [
       "                             Content ID Content Type        Category\n",
       "0  97522e57-d9ab-4bd6-97bf-c24d952602d2        photo        STUDYING\n",
       "1  9f737e0a-3cdd-4d29-9d24-753f4e3be810        photo  HEALTHY EATING"
      ]
     },
     "execution_count": 33,
     "metadata": {},
     "output_type": "execute_result"
    }
   ],
   "source": [
    "contents.head(2)"
   ]
  },
  {
   "cell_type": "code",
   "execution_count": 34,
   "id": "f59d2050",
   "metadata": {},
   "outputs": [
    {
     "data": {
      "text/plain": [
       "Content ID      0\n",
       "Content Type    0\n",
       "Category        0\n",
       "dtype: int64"
      ]
     },
     "execution_count": 34,
     "metadata": {},
     "output_type": "execute_result"
    }
   ],
   "source": [
    "contents.isnull().sum()"
   ]
  },
  {
   "cell_type": "markdown",
   "id": "93d25c9c",
   "metadata": {},
   "source": [
    "FINALLY OUR WORK IS DONE FOR PREPROCESSING."
   ]
  },
  {
   "cell_type": "markdown",
   "id": "a110ad5f",
   "metadata": {},
   "source": [
    "### Exploring Reaction_types dataset"
   ]
  },
  {
   "cell_type": "code",
   "execution_count": 36,
   "id": "82013604",
   "metadata": {},
   "outputs": [],
   "source": [
    "reaction_type=pd.read_csv('ReactionTypes.csv',index_col='Unnamed: 0')"
   ]
  },
  {
   "cell_type": "code",
   "execution_count": 37,
   "id": "dac944e8",
   "metadata": {},
   "outputs": [
    {
     "data": {
      "text/html": [
       "<div>\n",
       "<style scoped>\n",
       "    .dataframe tbody tr th:only-of-type {\n",
       "        vertical-align: middle;\n",
       "    }\n",
       "\n",
       "    .dataframe tbody tr th {\n",
       "        vertical-align: top;\n",
       "    }\n",
       "\n",
       "    .dataframe thead th {\n",
       "        text-align: right;\n",
       "    }\n",
       "</style>\n",
       "<table border=\"1\" class=\"dataframe\">\n",
       "  <thead>\n",
       "    <tr style=\"text-align: right;\">\n",
       "      <th></th>\n",
       "      <th>Type</th>\n",
       "      <th>Sentiment</th>\n",
       "      <th>Score</th>\n",
       "    </tr>\n",
       "  </thead>\n",
       "  <tbody>\n",
       "    <tr>\n",
       "      <th>0</th>\n",
       "      <td>heart</td>\n",
       "      <td>positive</td>\n",
       "      <td>60</td>\n",
       "    </tr>\n",
       "    <tr>\n",
       "      <th>1</th>\n",
       "      <td>want</td>\n",
       "      <td>positive</td>\n",
       "      <td>70</td>\n",
       "    </tr>\n",
       "  </tbody>\n",
       "</table>\n",
       "</div>"
      ],
      "text/plain": [
       "    Type Sentiment  Score\n",
       "0  heart  positive     60\n",
       "1   want  positive     70"
      ]
     },
     "execution_count": 37,
     "metadata": {},
     "output_type": "execute_result"
    }
   ],
   "source": [
    "reaction_type.head(2)"
   ]
  },
  {
   "cell_type": "code",
   "execution_count": 38,
   "id": "fa9917ad",
   "metadata": {},
   "outputs": [
    {
     "data": {
      "text/plain": [
       "(16, 3)"
      ]
     },
     "execution_count": 38,
     "metadata": {},
     "output_type": "execute_result"
    }
   ],
   "source": [
    "reaction_type.shape"
   ]
  },
  {
   "cell_type": "code",
   "execution_count": 39,
   "id": "177b5001",
   "metadata": {},
   "outputs": [
    {
     "data": {
      "text/plain": [
       "16"
      ]
     },
     "execution_count": 39,
     "metadata": {},
     "output_type": "execute_result"
    }
   ],
   "source": [
    "reaction_type['Type'].nunique()"
   ]
  },
  {
   "cell_type": "code",
   "execution_count": 76,
   "id": "c54e557e",
   "metadata": {},
   "outputs": [],
   "source": [
    "reaction_type.rename(columns={'Type':'Reaction Type'},inplace=True)"
   ]
  },
  {
   "cell_type": "code",
   "execution_count": 40,
   "id": "33ea41f5",
   "metadata": {},
   "outputs": [],
   "source": [
    "#We have 16 Different types of reactions"
   ]
  },
  {
   "cell_type": "code",
   "execution_count": 41,
   "id": "719cd3cc",
   "metadata": {},
   "outputs": [
    {
     "data": {
      "text/html": [
       "<div>\n",
       "<style scoped>\n",
       "    .dataframe tbody tr th:only-of-type {\n",
       "        vertical-align: middle;\n",
       "    }\n",
       "\n",
       "    .dataframe tbody tr th {\n",
       "        vertical-align: top;\n",
       "    }\n",
       "\n",
       "    .dataframe thead th {\n",
       "        text-align: right;\n",
       "    }\n",
       "</style>\n",
       "<table border=\"1\" class=\"dataframe\">\n",
       "  <thead>\n",
       "    <tr style=\"text-align: right;\">\n",
       "      <th></th>\n",
       "      <th>Type</th>\n",
       "      <th>Sentiment</th>\n",
       "      <th>Score</th>\n",
       "    </tr>\n",
       "  </thead>\n",
       "  <tbody>\n",
       "    <tr>\n",
       "      <th>0</th>\n",
       "      <td>heart</td>\n",
       "      <td>positive</td>\n",
       "      <td>60</td>\n",
       "    </tr>\n",
       "    <tr>\n",
       "      <th>1</th>\n",
       "      <td>want</td>\n",
       "      <td>positive</td>\n",
       "      <td>70</td>\n",
       "    </tr>\n",
       "    <tr>\n",
       "      <th>2</th>\n",
       "      <td>disgust</td>\n",
       "      <td>negative</td>\n",
       "      <td>0</td>\n",
       "    </tr>\n",
       "    <tr>\n",
       "      <th>3</th>\n",
       "      <td>hate</td>\n",
       "      <td>negative</td>\n",
       "      <td>5</td>\n",
       "    </tr>\n",
       "    <tr>\n",
       "      <th>4</th>\n",
       "      <td>interested</td>\n",
       "      <td>positive</td>\n",
       "      <td>30</td>\n",
       "    </tr>\n",
       "    <tr>\n",
       "      <th>5</th>\n",
       "      <td>indifferent</td>\n",
       "      <td>neutral</td>\n",
       "      <td>20</td>\n",
       "    </tr>\n",
       "    <tr>\n",
       "      <th>6</th>\n",
       "      <td>love</td>\n",
       "      <td>positive</td>\n",
       "      <td>65</td>\n",
       "    </tr>\n",
       "    <tr>\n",
       "      <th>7</th>\n",
       "      <td>super love</td>\n",
       "      <td>positive</td>\n",
       "      <td>75</td>\n",
       "    </tr>\n",
       "    <tr>\n",
       "      <th>8</th>\n",
       "      <td>cherish</td>\n",
       "      <td>positive</td>\n",
       "      <td>70</td>\n",
       "    </tr>\n",
       "    <tr>\n",
       "      <th>9</th>\n",
       "      <td>adore</td>\n",
       "      <td>positive</td>\n",
       "      <td>72</td>\n",
       "    </tr>\n",
       "    <tr>\n",
       "      <th>10</th>\n",
       "      <td>like</td>\n",
       "      <td>positive</td>\n",
       "      <td>50</td>\n",
       "    </tr>\n",
       "    <tr>\n",
       "      <th>11</th>\n",
       "      <td>dislike</td>\n",
       "      <td>negative</td>\n",
       "      <td>10</td>\n",
       "    </tr>\n",
       "    <tr>\n",
       "      <th>12</th>\n",
       "      <td>intrigued</td>\n",
       "      <td>positive</td>\n",
       "      <td>45</td>\n",
       "    </tr>\n",
       "    <tr>\n",
       "      <th>13</th>\n",
       "      <td>peeking</td>\n",
       "      <td>neutral</td>\n",
       "      <td>35</td>\n",
       "    </tr>\n",
       "    <tr>\n",
       "      <th>14</th>\n",
       "      <td>scared</td>\n",
       "      <td>negative</td>\n",
       "      <td>15</td>\n",
       "    </tr>\n",
       "    <tr>\n",
       "      <th>15</th>\n",
       "      <td>worried</td>\n",
       "      <td>negative</td>\n",
       "      <td>12</td>\n",
       "    </tr>\n",
       "  </tbody>\n",
       "</table>\n",
       "</div>"
      ],
      "text/plain": [
       "           Type Sentiment  Score\n",
       "0         heart  positive     60\n",
       "1          want  positive     70\n",
       "2       disgust  negative      0\n",
       "3          hate  negative      5\n",
       "4    interested  positive     30\n",
       "5   indifferent   neutral     20\n",
       "6          love  positive     65\n",
       "7    super love  positive     75\n",
       "8       cherish  positive     70\n",
       "9         adore  positive     72\n",
       "10         like  positive     50\n",
       "11      dislike  negative     10\n",
       "12    intrigued  positive     45\n",
       "13      peeking   neutral     35\n",
       "14       scared  negative     15\n",
       "15      worried  negative     12"
      ]
     },
     "execution_count": 41,
     "metadata": {},
     "output_type": "execute_result"
    }
   ],
   "source": [
    "reaction_type"
   ]
  },
  {
   "cell_type": "markdown",
   "id": "ec1f4be6",
   "metadata": {},
   "source": [
    "### Exploring the Reaction dataset"
   ]
  },
  {
   "cell_type": "code",
   "execution_count": 50,
   "id": "105b12cd",
   "metadata": {},
   "outputs": [],
   "source": [
    "reaction=pd.read_csv('Reactions.csv',index_col='Unnamed: 0')"
   ]
  },
  {
   "cell_type": "code",
   "execution_count": 51,
   "id": "a638e0d2",
   "metadata": {},
   "outputs": [
    {
     "data": {
      "text/html": [
       "<div>\n",
       "<style scoped>\n",
       "    .dataframe tbody tr th:only-of-type {\n",
       "        vertical-align: middle;\n",
       "    }\n",
       "\n",
       "    .dataframe tbody tr th {\n",
       "        vertical-align: top;\n",
       "    }\n",
       "\n",
       "    .dataframe thead th {\n",
       "        text-align: right;\n",
       "    }\n",
       "</style>\n",
       "<table border=\"1\" class=\"dataframe\">\n",
       "  <thead>\n",
       "    <tr style=\"text-align: right;\">\n",
       "      <th></th>\n",
       "      <th>Content ID</th>\n",
       "      <th>User ID</th>\n",
       "      <th>Type</th>\n",
       "      <th>Datetime</th>\n",
       "    </tr>\n",
       "  </thead>\n",
       "  <tbody>\n",
       "    <tr>\n",
       "      <th>0</th>\n",
       "      <td>97522e57-d9ab-4bd6-97bf-c24d952602d2</td>\n",
       "      <td>NaN</td>\n",
       "      <td>NaN</td>\n",
       "      <td>2021-04-22 15:17:15</td>\n",
       "    </tr>\n",
       "    <tr>\n",
       "      <th>1</th>\n",
       "      <td>97522e57-d9ab-4bd6-97bf-c24d952602d2</td>\n",
       "      <td>5d454588-283d-459d-915d-c48a2cb4c27f</td>\n",
       "      <td>disgust</td>\n",
       "      <td>2020-11-07 09:43:50</td>\n",
       "    </tr>\n",
       "  </tbody>\n",
       "</table>\n",
       "</div>"
      ],
      "text/plain": [
       "                             Content ID                               User ID  \\\n",
       "0  97522e57-d9ab-4bd6-97bf-c24d952602d2                                   NaN   \n",
       "1  97522e57-d9ab-4bd6-97bf-c24d952602d2  5d454588-283d-459d-915d-c48a2cb4c27f   \n",
       "\n",
       "      Type             Datetime  \n",
       "0      NaN  2021-04-22 15:17:15  \n",
       "1  disgust  2020-11-07 09:43:50  "
      ]
     },
     "execution_count": 51,
     "metadata": {},
     "output_type": "execute_result"
    }
   ],
   "source": [
    "reaction.head(2)"
   ]
  },
  {
   "cell_type": "code",
   "execution_count": 52,
   "id": "f0f8ffc4",
   "metadata": {},
   "outputs": [
    {
     "data": {
      "text/plain": [
       "(25553, 4)"
      ]
     },
     "execution_count": 52,
     "metadata": {},
     "output_type": "execute_result"
    }
   ],
   "source": [
    "reaction.shape"
   ]
  },
  {
   "cell_type": "code",
   "execution_count": 53,
   "id": "294cdf15",
   "metadata": {},
   "outputs": [
    {
     "name": "stdout",
     "output_type": "stream",
     "text": [
      "Content ID\n",
      "User ID\n",
      "Type\n",
      "Datetime\n"
     ]
    }
   ],
   "source": [
    "for i in reaction.columns:\n",
    "    print(i)"
   ]
  },
  {
   "cell_type": "code",
   "execution_count": 54,
   "id": "100b8c2d",
   "metadata": {},
   "outputs": [],
   "source": [
    "# WE DON'T NEED THE USER ID COLUMN, DROP IT\n",
    "reaction.drop(columns=['User ID'],inplace=True)"
   ]
  },
  {
   "cell_type": "code",
   "execution_count": 57,
   "id": "4435e353",
   "metadata": {},
   "outputs": [
    {
     "data": {
      "text/plain": [
       "Content ID      0\n",
       "Type          980\n",
       "Datetime        0\n",
       "dtype: int64"
      ]
     },
     "execution_count": 57,
     "metadata": {},
     "output_type": "execute_result"
    }
   ],
   "source": [
    "# Dealing with the null values\n",
    "reaction.isnull().sum()"
   ]
  },
  {
   "cell_type": "code",
   "execution_count": 27,
   "id": "be8fba6f",
   "metadata": {},
   "outputs": [
    {
     "data": {
      "text/plain": [
       "16"
      ]
     },
     "execution_count": 27,
     "metadata": {},
     "output_type": "execute_result"
    }
   ],
   "source": [
    "reaction['Type'].nunique()"
   ]
  },
  {
   "cell_type": "markdown",
   "id": "ce9e94f4",
   "metadata": {},
   "source": [
    "Here reaction Type is a key data point, if there is null values exist then we have to drop it."
   ]
  },
  {
   "cell_type": "code",
   "execution_count": 58,
   "id": "deb12f9f",
   "metadata": {},
   "outputs": [],
   "source": [
    "# Here we have to drop null values in the column 'Type'  \n",
    "reaction.dropna(inplace=True)"
   ]
  },
  {
   "cell_type": "code",
   "execution_count": 59,
   "id": "f35f30ec",
   "metadata": {},
   "outputs": [
    {
     "data": {
      "text/plain": [
       "(24573, 3)"
      ]
     },
     "execution_count": 59,
     "metadata": {},
     "output_type": "execute_result"
    }
   ],
   "source": [
    "reaction.shape"
   ]
  },
  {
   "cell_type": "code",
   "execution_count": 60,
   "id": "cd878283",
   "metadata": {},
   "outputs": [
    {
     "data": {
      "text/plain": [
       "Content ID    0\n",
       "Type          0\n",
       "Datetime      0\n",
       "dtype: int64"
      ]
     },
     "execution_count": 60,
     "metadata": {},
     "output_type": "execute_result"
    }
   ],
   "source": [
    "reaction.isnull().sum()"
   ]
  },
  {
   "cell_type": "code",
   "execution_count": 62,
   "id": "c41f4c49",
   "metadata": {},
   "outputs": [],
   "source": [
    "# Rename the column 'Type' to 'Reation Type'\n",
    "reaction.rename(columns={'Type':'Reaction Type'},inplace=True)"
   ]
  },
  {
   "cell_type": "code",
   "execution_count": 63,
   "id": "1be99896",
   "metadata": {},
   "outputs": [
    {
     "data": {
      "text/html": [
       "<div>\n",
       "<style scoped>\n",
       "    .dataframe tbody tr th:only-of-type {\n",
       "        vertical-align: middle;\n",
       "    }\n",
       "\n",
       "    .dataframe tbody tr th {\n",
       "        vertical-align: top;\n",
       "    }\n",
       "\n",
       "    .dataframe thead th {\n",
       "        text-align: right;\n",
       "    }\n",
       "</style>\n",
       "<table border=\"1\" class=\"dataframe\">\n",
       "  <thead>\n",
       "    <tr style=\"text-align: right;\">\n",
       "      <th></th>\n",
       "      <th>Content ID</th>\n",
       "      <th>Reaction Type</th>\n",
       "      <th>Datetime</th>\n",
       "    </tr>\n",
       "  </thead>\n",
       "  <tbody>\n",
       "    <tr>\n",
       "      <th>1</th>\n",
       "      <td>97522e57-d9ab-4bd6-97bf-c24d952602d2</td>\n",
       "      <td>disgust</td>\n",
       "      <td>2020-11-07 09:43:50</td>\n",
       "    </tr>\n",
       "    <tr>\n",
       "      <th>2</th>\n",
       "      <td>97522e57-d9ab-4bd6-97bf-c24d952602d2</td>\n",
       "      <td>dislike</td>\n",
       "      <td>2021-06-17 12:22:51</td>\n",
       "    </tr>\n",
       "    <tr>\n",
       "      <th>3</th>\n",
       "      <td>97522e57-d9ab-4bd6-97bf-c24d952602d2</td>\n",
       "      <td>scared</td>\n",
       "      <td>2021-04-18 05:13:58</td>\n",
       "    </tr>\n",
       "    <tr>\n",
       "      <th>4</th>\n",
       "      <td>97522e57-d9ab-4bd6-97bf-c24d952602d2</td>\n",
       "      <td>disgust</td>\n",
       "      <td>2021-01-06 19:13:01</td>\n",
       "    </tr>\n",
       "    <tr>\n",
       "      <th>5</th>\n",
       "      <td>97522e57-d9ab-4bd6-97bf-c24d952602d2</td>\n",
       "      <td>interested</td>\n",
       "      <td>2020-08-23 12:25:58</td>\n",
       "    </tr>\n",
       "    <tr>\n",
       "      <th>...</th>\n",
       "      <td>...</td>\n",
       "      <td>...</td>\n",
       "      <td>...</td>\n",
       "    </tr>\n",
       "    <tr>\n",
       "      <th>25548</th>\n",
       "      <td>75d6b589-7fae-4a6d-b0d0-752845150e56</td>\n",
       "      <td>dislike</td>\n",
       "      <td>2020-06-27 09:46:48</td>\n",
       "    </tr>\n",
       "    <tr>\n",
       "      <th>25549</th>\n",
       "      <td>75d6b589-7fae-4a6d-b0d0-752845150e56</td>\n",
       "      <td>intrigued</td>\n",
       "      <td>2021-02-16 17:17:02</td>\n",
       "    </tr>\n",
       "    <tr>\n",
       "      <th>25550</th>\n",
       "      <td>75d6b589-7fae-4a6d-b0d0-752845150e56</td>\n",
       "      <td>interested</td>\n",
       "      <td>2020-09-12 03:54:58</td>\n",
       "    </tr>\n",
       "    <tr>\n",
       "      <th>25551</th>\n",
       "      <td>75d6b589-7fae-4a6d-b0d0-752845150e56</td>\n",
       "      <td>worried</td>\n",
       "      <td>2020-11-04 20:08:31</td>\n",
       "    </tr>\n",
       "    <tr>\n",
       "      <th>25552</th>\n",
       "      <td>75d6b589-7fae-4a6d-b0d0-752845150e56</td>\n",
       "      <td>cherish</td>\n",
       "      <td>2021-01-04 04:55:11</td>\n",
       "    </tr>\n",
       "  </tbody>\n",
       "</table>\n",
       "<p>24573 rows × 3 columns</p>\n",
       "</div>"
      ],
      "text/plain": [
       "                                 Content ID Reaction Type             Datetime\n",
       "1      97522e57-d9ab-4bd6-97bf-c24d952602d2       disgust  2020-11-07 09:43:50\n",
       "2      97522e57-d9ab-4bd6-97bf-c24d952602d2       dislike  2021-06-17 12:22:51\n",
       "3      97522e57-d9ab-4bd6-97bf-c24d952602d2        scared  2021-04-18 05:13:58\n",
       "4      97522e57-d9ab-4bd6-97bf-c24d952602d2       disgust  2021-01-06 19:13:01\n",
       "5      97522e57-d9ab-4bd6-97bf-c24d952602d2    interested  2020-08-23 12:25:58\n",
       "...                                     ...           ...                  ...\n",
       "25548  75d6b589-7fae-4a6d-b0d0-752845150e56       dislike  2020-06-27 09:46:48\n",
       "25549  75d6b589-7fae-4a6d-b0d0-752845150e56     intrigued  2021-02-16 17:17:02\n",
       "25550  75d6b589-7fae-4a6d-b0d0-752845150e56    interested  2020-09-12 03:54:58\n",
       "25551  75d6b589-7fae-4a6d-b0d0-752845150e56       worried  2020-11-04 20:08:31\n",
       "25552  75d6b589-7fae-4a6d-b0d0-752845150e56       cherish  2021-01-04 04:55:11\n",
       "\n",
       "[24573 rows x 3 columns]"
      ]
     },
     "execution_count": 63,
     "metadata": {},
     "output_type": "execute_result"
    }
   ],
   "source": [
    "reaction"
   ]
  },
  {
   "cell_type": "markdown",
   "id": "609b0591",
   "metadata": {},
   "source": [
    "## Data Merging"
   ]
  },
  {
   "cell_type": "code",
   "execution_count": 66,
   "id": "693ef5b0",
   "metadata": {},
   "outputs": [
    {
     "data": {
      "text/html": [
       "<div>\n",
       "<style scoped>\n",
       "    .dataframe tbody tr th:only-of-type {\n",
       "        vertical-align: middle;\n",
       "    }\n",
       "\n",
       "    .dataframe tbody tr th {\n",
       "        vertical-align: top;\n",
       "    }\n",
       "\n",
       "    .dataframe thead th {\n",
       "        text-align: right;\n",
       "    }\n",
       "</style>\n",
       "<table border=\"1\" class=\"dataframe\">\n",
       "  <thead>\n",
       "    <tr style=\"text-align: right;\">\n",
       "      <th></th>\n",
       "      <th>Content ID</th>\n",
       "      <th>Content Type</th>\n",
       "      <th>Category</th>\n",
       "    </tr>\n",
       "  </thead>\n",
       "  <tbody>\n",
       "    <tr>\n",
       "      <th>0</th>\n",
       "      <td>97522e57-d9ab-4bd6-97bf-c24d952602d2</td>\n",
       "      <td>photo</td>\n",
       "      <td>STUDYING</td>\n",
       "    </tr>\n",
       "    <tr>\n",
       "      <th>1</th>\n",
       "      <td>9f737e0a-3cdd-4d29-9d24-753f4e3be810</td>\n",
       "      <td>photo</td>\n",
       "      <td>HEALTHY EATING</td>\n",
       "    </tr>\n",
       "  </tbody>\n",
       "</table>\n",
       "</div>"
      ],
      "text/plain": [
       "                             Content ID Content Type        Category\n",
       "0  97522e57-d9ab-4bd6-97bf-c24d952602d2        photo        STUDYING\n",
       "1  9f737e0a-3cdd-4d29-9d24-753f4e3be810        photo  HEALTHY EATING"
      ]
     },
     "execution_count": 66,
     "metadata": {},
     "output_type": "execute_result"
    }
   ],
   "source": [
    "contents.head(2)"
   ]
  },
  {
   "cell_type": "code",
   "execution_count": 68,
   "id": "4d00bbc1",
   "metadata": {},
   "outputs": [
    {
     "data": {
      "text/plain": [
       "(1000, 3)"
      ]
     },
     "execution_count": 68,
     "metadata": {},
     "output_type": "execute_result"
    }
   ],
   "source": [
    "contents.shape"
   ]
  },
  {
   "cell_type": "code",
   "execution_count": 72,
   "id": "2b0f8d61",
   "metadata": {},
   "outputs": [
    {
     "data": {
      "text/plain": [
       "962"
      ]
     },
     "execution_count": 72,
     "metadata": {},
     "output_type": "execute_result"
    }
   ],
   "source": [
    "reaction['Content ID'].nunique()"
   ]
  },
  {
   "cell_type": "code",
   "execution_count": 69,
   "id": "b7250236",
   "metadata": {},
   "outputs": [
    {
     "data": {
      "text/html": [
       "<div>\n",
       "<style scoped>\n",
       "    .dataframe tbody tr th:only-of-type {\n",
       "        vertical-align: middle;\n",
       "    }\n",
       "\n",
       "    .dataframe tbody tr th {\n",
       "        vertical-align: top;\n",
       "    }\n",
       "\n",
       "    .dataframe thead th {\n",
       "        text-align: right;\n",
       "    }\n",
       "</style>\n",
       "<table border=\"1\" class=\"dataframe\">\n",
       "  <thead>\n",
       "    <tr style=\"text-align: right;\">\n",
       "      <th></th>\n",
       "      <th>Content ID</th>\n",
       "      <th>Reaction Type</th>\n",
       "      <th>Datetime</th>\n",
       "    </tr>\n",
       "  </thead>\n",
       "  <tbody>\n",
       "    <tr>\n",
       "      <th>1</th>\n",
       "      <td>97522e57-d9ab-4bd6-97bf-c24d952602d2</td>\n",
       "      <td>disgust</td>\n",
       "      <td>2020-11-07 09:43:50</td>\n",
       "    </tr>\n",
       "    <tr>\n",
       "      <th>2</th>\n",
       "      <td>97522e57-d9ab-4bd6-97bf-c24d952602d2</td>\n",
       "      <td>dislike</td>\n",
       "      <td>2021-06-17 12:22:51</td>\n",
       "    </tr>\n",
       "  </tbody>\n",
       "</table>\n",
       "</div>"
      ],
      "text/plain": [
       "                             Content ID Reaction Type             Datetime\n",
       "1  97522e57-d9ab-4bd6-97bf-c24d952602d2       disgust  2020-11-07 09:43:50\n",
       "2  97522e57-d9ab-4bd6-97bf-c24d952602d2       dislike  2021-06-17 12:22:51"
      ]
     },
     "execution_count": 69,
     "metadata": {},
     "output_type": "execute_result"
    }
   ],
   "source": [
    "reaction.head(2)"
   ]
  },
  {
   "cell_type": "code",
   "execution_count": 70,
   "id": "be3b9701",
   "metadata": {},
   "outputs": [
    {
     "data": {
      "text/plain": [
       "(24573, 3)"
      ]
     },
     "execution_count": 70,
     "metadata": {},
     "output_type": "execute_result"
    }
   ],
   "source": [
    "reaction.shape"
   ]
  },
  {
   "cell_type": "code",
   "execution_count": 73,
   "id": "d6c030ec",
   "metadata": {},
   "outputs": [],
   "source": [
    "# Merging the reation and contents tables\n",
    "final_data=pd.merge(reaction,contents,how='inner',on='Content ID')"
   ]
  },
  {
   "cell_type": "code",
   "execution_count": 74,
   "id": "b81cde6e",
   "metadata": {},
   "outputs": [
    {
     "data": {
      "text/html": [
       "<div>\n",
       "<style scoped>\n",
       "    .dataframe tbody tr th:only-of-type {\n",
       "        vertical-align: middle;\n",
       "    }\n",
       "\n",
       "    .dataframe tbody tr th {\n",
       "        vertical-align: top;\n",
       "    }\n",
       "\n",
       "    .dataframe thead th {\n",
       "        text-align: right;\n",
       "    }\n",
       "</style>\n",
       "<table border=\"1\" class=\"dataframe\">\n",
       "  <thead>\n",
       "    <tr style=\"text-align: right;\">\n",
       "      <th></th>\n",
       "      <th>Content ID</th>\n",
       "      <th>Reaction Type</th>\n",
       "      <th>Datetime</th>\n",
       "      <th>Content Type</th>\n",
       "      <th>Category</th>\n",
       "    </tr>\n",
       "  </thead>\n",
       "  <tbody>\n",
       "    <tr>\n",
       "      <th>0</th>\n",
       "      <td>97522e57-d9ab-4bd6-97bf-c24d952602d2</td>\n",
       "      <td>disgust</td>\n",
       "      <td>2020-11-07 09:43:50</td>\n",
       "      <td>photo</td>\n",
       "      <td>STUDYING</td>\n",
       "    </tr>\n",
       "    <tr>\n",
       "      <th>1</th>\n",
       "      <td>97522e57-d9ab-4bd6-97bf-c24d952602d2</td>\n",
       "      <td>dislike</td>\n",
       "      <td>2021-06-17 12:22:51</td>\n",
       "      <td>photo</td>\n",
       "      <td>STUDYING</td>\n",
       "    </tr>\n",
       "    <tr>\n",
       "      <th>2</th>\n",
       "      <td>97522e57-d9ab-4bd6-97bf-c24d952602d2</td>\n",
       "      <td>scared</td>\n",
       "      <td>2021-04-18 05:13:58</td>\n",
       "      <td>photo</td>\n",
       "      <td>STUDYING</td>\n",
       "    </tr>\n",
       "    <tr>\n",
       "      <th>3</th>\n",
       "      <td>97522e57-d9ab-4bd6-97bf-c24d952602d2</td>\n",
       "      <td>disgust</td>\n",
       "      <td>2021-01-06 19:13:01</td>\n",
       "      <td>photo</td>\n",
       "      <td>STUDYING</td>\n",
       "    </tr>\n",
       "    <tr>\n",
       "      <th>4</th>\n",
       "      <td>97522e57-d9ab-4bd6-97bf-c24d952602d2</td>\n",
       "      <td>interested</td>\n",
       "      <td>2020-08-23 12:25:58</td>\n",
       "      <td>photo</td>\n",
       "      <td>STUDYING</td>\n",
       "    </tr>\n",
       "    <tr>\n",
       "      <th>...</th>\n",
       "      <td>...</td>\n",
       "      <td>...</td>\n",
       "      <td>...</td>\n",
       "      <td>...</td>\n",
       "      <td>...</td>\n",
       "    </tr>\n",
       "    <tr>\n",
       "      <th>24568</th>\n",
       "      <td>75d6b589-7fae-4a6d-b0d0-752845150e56</td>\n",
       "      <td>dislike</td>\n",
       "      <td>2020-06-27 09:46:48</td>\n",
       "      <td>audio</td>\n",
       "      <td>TECHNOLOGY</td>\n",
       "    </tr>\n",
       "    <tr>\n",
       "      <th>24569</th>\n",
       "      <td>75d6b589-7fae-4a6d-b0d0-752845150e56</td>\n",
       "      <td>intrigued</td>\n",
       "      <td>2021-02-16 17:17:02</td>\n",
       "      <td>audio</td>\n",
       "      <td>TECHNOLOGY</td>\n",
       "    </tr>\n",
       "    <tr>\n",
       "      <th>24570</th>\n",
       "      <td>75d6b589-7fae-4a6d-b0d0-752845150e56</td>\n",
       "      <td>interested</td>\n",
       "      <td>2020-09-12 03:54:58</td>\n",
       "      <td>audio</td>\n",
       "      <td>TECHNOLOGY</td>\n",
       "    </tr>\n",
       "    <tr>\n",
       "      <th>24571</th>\n",
       "      <td>75d6b589-7fae-4a6d-b0d0-752845150e56</td>\n",
       "      <td>worried</td>\n",
       "      <td>2020-11-04 20:08:31</td>\n",
       "      <td>audio</td>\n",
       "      <td>TECHNOLOGY</td>\n",
       "    </tr>\n",
       "    <tr>\n",
       "      <th>24572</th>\n",
       "      <td>75d6b589-7fae-4a6d-b0d0-752845150e56</td>\n",
       "      <td>cherish</td>\n",
       "      <td>2021-01-04 04:55:11</td>\n",
       "      <td>audio</td>\n",
       "      <td>TECHNOLOGY</td>\n",
       "    </tr>\n",
       "  </tbody>\n",
       "</table>\n",
       "<p>24573 rows × 5 columns</p>\n",
       "</div>"
      ],
      "text/plain": [
       "                                 Content ID Reaction Type  \\\n",
       "0      97522e57-d9ab-4bd6-97bf-c24d952602d2       disgust   \n",
       "1      97522e57-d9ab-4bd6-97bf-c24d952602d2       dislike   \n",
       "2      97522e57-d9ab-4bd6-97bf-c24d952602d2        scared   \n",
       "3      97522e57-d9ab-4bd6-97bf-c24d952602d2       disgust   \n",
       "4      97522e57-d9ab-4bd6-97bf-c24d952602d2    interested   \n",
       "...                                     ...           ...   \n",
       "24568  75d6b589-7fae-4a6d-b0d0-752845150e56       dislike   \n",
       "24569  75d6b589-7fae-4a6d-b0d0-752845150e56     intrigued   \n",
       "24570  75d6b589-7fae-4a6d-b0d0-752845150e56    interested   \n",
       "24571  75d6b589-7fae-4a6d-b0d0-752845150e56       worried   \n",
       "24572  75d6b589-7fae-4a6d-b0d0-752845150e56       cherish   \n",
       "\n",
       "                  Datetime Content Type    Category  \n",
       "0      2020-11-07 09:43:50        photo    STUDYING  \n",
       "1      2021-06-17 12:22:51        photo    STUDYING  \n",
       "2      2021-04-18 05:13:58        photo    STUDYING  \n",
       "3      2021-01-06 19:13:01        photo    STUDYING  \n",
       "4      2020-08-23 12:25:58        photo    STUDYING  \n",
       "...                    ...          ...         ...  \n",
       "24568  2020-06-27 09:46:48        audio  TECHNOLOGY  \n",
       "24569  2021-02-16 17:17:02        audio  TECHNOLOGY  \n",
       "24570  2020-09-12 03:54:58        audio  TECHNOLOGY  \n",
       "24571  2020-11-04 20:08:31        audio  TECHNOLOGY  \n",
       "24572  2021-01-04 04:55:11        audio  TECHNOLOGY  \n",
       "\n",
       "[24573 rows x 5 columns]"
      ]
     },
     "execution_count": 74,
     "metadata": {},
     "output_type": "execute_result"
    }
   ],
   "source": [
    "final_data"
   ]
  },
  {
   "cell_type": "code",
   "execution_count": 88,
   "id": "8ad43ec1",
   "metadata": {},
   "outputs": [
    {
     "data": {
      "text/html": [
       "<div>\n",
       "<style scoped>\n",
       "    .dataframe tbody tr th:only-of-type {\n",
       "        vertical-align: middle;\n",
       "    }\n",
       "\n",
       "    .dataframe tbody tr th {\n",
       "        vertical-align: top;\n",
       "    }\n",
       "\n",
       "    .dataframe thead th {\n",
       "        text-align: right;\n",
       "    }\n",
       "</style>\n",
       "<table border=\"1\" class=\"dataframe\">\n",
       "  <thead>\n",
       "    <tr style=\"text-align: right;\">\n",
       "      <th></th>\n",
       "      <th>Reaction Type</th>\n",
       "      <th>Sentiment</th>\n",
       "      <th>Score</th>\n",
       "    </tr>\n",
       "  </thead>\n",
       "  <tbody>\n",
       "    <tr>\n",
       "      <th>0</th>\n",
       "      <td>heart</td>\n",
       "      <td>positive</td>\n",
       "      <td>60</td>\n",
       "    </tr>\n",
       "    <tr>\n",
       "      <th>1</th>\n",
       "      <td>want</td>\n",
       "      <td>positive</td>\n",
       "      <td>70</td>\n",
       "    </tr>\n",
       "    <tr>\n",
       "      <th>2</th>\n",
       "      <td>disgust</td>\n",
       "      <td>negative</td>\n",
       "      <td>0</td>\n",
       "    </tr>\n",
       "    <tr>\n",
       "      <th>3</th>\n",
       "      <td>hate</td>\n",
       "      <td>negative</td>\n",
       "      <td>5</td>\n",
       "    </tr>\n",
       "    <tr>\n",
       "      <th>4</th>\n",
       "      <td>interested</td>\n",
       "      <td>positive</td>\n",
       "      <td>30</td>\n",
       "    </tr>\n",
       "    <tr>\n",
       "      <th>5</th>\n",
       "      <td>indifferent</td>\n",
       "      <td>neutral</td>\n",
       "      <td>20</td>\n",
       "    </tr>\n",
       "    <tr>\n",
       "      <th>6</th>\n",
       "      <td>love</td>\n",
       "      <td>positive</td>\n",
       "      <td>65</td>\n",
       "    </tr>\n",
       "    <tr>\n",
       "      <th>7</th>\n",
       "      <td>super love</td>\n",
       "      <td>positive</td>\n",
       "      <td>75</td>\n",
       "    </tr>\n",
       "    <tr>\n",
       "      <th>8</th>\n",
       "      <td>cherish</td>\n",
       "      <td>positive</td>\n",
       "      <td>70</td>\n",
       "    </tr>\n",
       "    <tr>\n",
       "      <th>9</th>\n",
       "      <td>adore</td>\n",
       "      <td>positive</td>\n",
       "      <td>72</td>\n",
       "    </tr>\n",
       "    <tr>\n",
       "      <th>10</th>\n",
       "      <td>like</td>\n",
       "      <td>positive</td>\n",
       "      <td>50</td>\n",
       "    </tr>\n",
       "    <tr>\n",
       "      <th>11</th>\n",
       "      <td>dislike</td>\n",
       "      <td>negative</td>\n",
       "      <td>10</td>\n",
       "    </tr>\n",
       "    <tr>\n",
       "      <th>12</th>\n",
       "      <td>intrigued</td>\n",
       "      <td>positive</td>\n",
       "      <td>45</td>\n",
       "    </tr>\n",
       "    <tr>\n",
       "      <th>13</th>\n",
       "      <td>peeking</td>\n",
       "      <td>neutral</td>\n",
       "      <td>35</td>\n",
       "    </tr>\n",
       "    <tr>\n",
       "      <th>14</th>\n",
       "      <td>scared</td>\n",
       "      <td>negative</td>\n",
       "      <td>15</td>\n",
       "    </tr>\n",
       "    <tr>\n",
       "      <th>15</th>\n",
       "      <td>worried</td>\n",
       "      <td>negative</td>\n",
       "      <td>12</td>\n",
       "    </tr>\n",
       "  </tbody>\n",
       "</table>\n",
       "</div>"
      ],
      "text/plain": [
       "   Reaction Type Sentiment  Score\n",
       "0          heart  positive     60\n",
       "1           want  positive     70\n",
       "2        disgust  negative      0\n",
       "3           hate  negative      5\n",
       "4     interested  positive     30\n",
       "5    indifferent   neutral     20\n",
       "6           love  positive     65\n",
       "7     super love  positive     75\n",
       "8        cherish  positive     70\n",
       "9          adore  positive     72\n",
       "10          like  positive     50\n",
       "11       dislike  negative     10\n",
       "12     intrigued  positive     45\n",
       "13       peeking   neutral     35\n",
       "14        scared  negative     15\n",
       "15       worried  negative     12"
      ]
     },
     "execution_count": 88,
     "metadata": {},
     "output_type": "execute_result"
    }
   ],
   "source": [
    "reaction_type"
   ]
  },
  {
   "cell_type": "code",
   "execution_count": 79,
   "id": "0424cbb3",
   "metadata": {},
   "outputs": [],
   "source": [
    "#merging final_data and reaction type table\n",
    "final_data=pd.merge(final_data,reaction_type,how='inner',on='Reaction Type')"
   ]
  },
  {
   "cell_type": "code",
   "execution_count": 80,
   "id": "d4e9e547",
   "metadata": {},
   "outputs": [
    {
     "data": {
      "text/html": [
       "<div>\n",
       "<style scoped>\n",
       "    .dataframe tbody tr th:only-of-type {\n",
       "        vertical-align: middle;\n",
       "    }\n",
       "\n",
       "    .dataframe tbody tr th {\n",
       "        vertical-align: top;\n",
       "    }\n",
       "\n",
       "    .dataframe thead th {\n",
       "        text-align: right;\n",
       "    }\n",
       "</style>\n",
       "<table border=\"1\" class=\"dataframe\">\n",
       "  <thead>\n",
       "    <tr style=\"text-align: right;\">\n",
       "      <th></th>\n",
       "      <th>Content ID</th>\n",
       "      <th>Reaction Type</th>\n",
       "      <th>Datetime</th>\n",
       "      <th>Content Type</th>\n",
       "      <th>Category</th>\n",
       "      <th>Sentiment</th>\n",
       "      <th>Score</th>\n",
       "    </tr>\n",
       "  </thead>\n",
       "  <tbody>\n",
       "    <tr>\n",
       "      <th>0</th>\n",
       "      <td>97522e57-d9ab-4bd6-97bf-c24d952602d2</td>\n",
       "      <td>disgust</td>\n",
       "      <td>2020-11-07 09:43:50</td>\n",
       "      <td>photo</td>\n",
       "      <td>STUDYING</td>\n",
       "      <td>negative</td>\n",
       "      <td>0</td>\n",
       "    </tr>\n",
       "    <tr>\n",
       "      <th>1</th>\n",
       "      <td>97522e57-d9ab-4bd6-97bf-c24d952602d2</td>\n",
       "      <td>disgust</td>\n",
       "      <td>2021-01-06 19:13:01</td>\n",
       "      <td>photo</td>\n",
       "      <td>STUDYING</td>\n",
       "      <td>negative</td>\n",
       "      <td>0</td>\n",
       "    </tr>\n",
       "    <tr>\n",
       "      <th>2</th>\n",
       "      <td>97522e57-d9ab-4bd6-97bf-c24d952602d2</td>\n",
       "      <td>disgust</td>\n",
       "      <td>2021-04-09 02:46:20</td>\n",
       "      <td>photo</td>\n",
       "      <td>STUDYING</td>\n",
       "      <td>negative</td>\n",
       "      <td>0</td>\n",
       "    </tr>\n",
       "    <tr>\n",
       "      <th>3</th>\n",
       "      <td>9f737e0a-3cdd-4d29-9d24-753f4e3be810</td>\n",
       "      <td>disgust</td>\n",
       "      <td>2021-03-28 21:15:26</td>\n",
       "      <td>photo</td>\n",
       "      <td>HEALTHY EATING</td>\n",
       "      <td>negative</td>\n",
       "      <td>0</td>\n",
       "    </tr>\n",
       "    <tr>\n",
       "      <th>4</th>\n",
       "      <td>230c4e4d-70c3-461d-b42c-ec09396efb3f</td>\n",
       "      <td>disgust</td>\n",
       "      <td>2020-08-04 05:40:33</td>\n",
       "      <td>photo</td>\n",
       "      <td>HEALTHY EATING</td>\n",
       "      <td>negative</td>\n",
       "      <td>0</td>\n",
       "    </tr>\n",
       "    <tr>\n",
       "      <th>...</th>\n",
       "      <td>...</td>\n",
       "      <td>...</td>\n",
       "      <td>...</td>\n",
       "      <td>...</td>\n",
       "      <td>...</td>\n",
       "      <td>...</td>\n",
       "      <td>...</td>\n",
       "    </tr>\n",
       "    <tr>\n",
       "      <th>24568</th>\n",
       "      <td>435007a5-6261-4d8b-b0a4-55fdc189754b</td>\n",
       "      <td>adore</td>\n",
       "      <td>2020-10-04 22:26:33</td>\n",
       "      <td>audio</td>\n",
       "      <td>VEGANISM</td>\n",
       "      <td>positive</td>\n",
       "      <td>72</td>\n",
       "    </tr>\n",
       "    <tr>\n",
       "      <th>24569</th>\n",
       "      <td>435007a5-6261-4d8b-b0a4-55fdc189754b</td>\n",
       "      <td>adore</td>\n",
       "      <td>2020-09-18 10:50:50</td>\n",
       "      <td>audio</td>\n",
       "      <td>VEGANISM</td>\n",
       "      <td>positive</td>\n",
       "      <td>72</td>\n",
       "    </tr>\n",
       "    <tr>\n",
       "      <th>24570</th>\n",
       "      <td>4e4c9690-c013-4ee7-9e66-943d8cbd27b7</td>\n",
       "      <td>adore</td>\n",
       "      <td>2020-10-31 03:58:44</td>\n",
       "      <td>GIF</td>\n",
       "      <td>CULTURE</td>\n",
       "      <td>positive</td>\n",
       "      <td>72</td>\n",
       "    </tr>\n",
       "    <tr>\n",
       "      <th>24571</th>\n",
       "      <td>4e4c9690-c013-4ee7-9e66-943d8cbd27b7</td>\n",
       "      <td>adore</td>\n",
       "      <td>2020-06-25 15:12:29</td>\n",
       "      <td>GIF</td>\n",
       "      <td>CULTURE</td>\n",
       "      <td>positive</td>\n",
       "      <td>72</td>\n",
       "    </tr>\n",
       "    <tr>\n",
       "      <th>24572</th>\n",
       "      <td>4e4c9690-c013-4ee7-9e66-943d8cbd27b7</td>\n",
       "      <td>adore</td>\n",
       "      <td>2020-12-17 16:32:57</td>\n",
       "      <td>GIF</td>\n",
       "      <td>CULTURE</td>\n",
       "      <td>positive</td>\n",
       "      <td>72</td>\n",
       "    </tr>\n",
       "  </tbody>\n",
       "</table>\n",
       "<p>24573 rows × 7 columns</p>\n",
       "</div>"
      ],
      "text/plain": [
       "                                 Content ID Reaction Type  \\\n",
       "0      97522e57-d9ab-4bd6-97bf-c24d952602d2       disgust   \n",
       "1      97522e57-d9ab-4bd6-97bf-c24d952602d2       disgust   \n",
       "2      97522e57-d9ab-4bd6-97bf-c24d952602d2       disgust   \n",
       "3      9f737e0a-3cdd-4d29-9d24-753f4e3be810       disgust   \n",
       "4      230c4e4d-70c3-461d-b42c-ec09396efb3f       disgust   \n",
       "...                                     ...           ...   \n",
       "24568  435007a5-6261-4d8b-b0a4-55fdc189754b         adore   \n",
       "24569  435007a5-6261-4d8b-b0a4-55fdc189754b         adore   \n",
       "24570  4e4c9690-c013-4ee7-9e66-943d8cbd27b7         adore   \n",
       "24571  4e4c9690-c013-4ee7-9e66-943d8cbd27b7         adore   \n",
       "24572  4e4c9690-c013-4ee7-9e66-943d8cbd27b7         adore   \n",
       "\n",
       "                  Datetime Content Type        Category Sentiment  Score  \n",
       "0      2020-11-07 09:43:50        photo        STUDYING  negative      0  \n",
       "1      2021-01-06 19:13:01        photo        STUDYING  negative      0  \n",
       "2      2021-04-09 02:46:20        photo        STUDYING  negative      0  \n",
       "3      2021-03-28 21:15:26        photo  HEALTHY EATING  negative      0  \n",
       "4      2020-08-04 05:40:33        photo  HEALTHY EATING  negative      0  \n",
       "...                    ...          ...             ...       ...    ...  \n",
       "24568  2020-10-04 22:26:33        audio        VEGANISM  positive     72  \n",
       "24569  2020-09-18 10:50:50        audio        VEGANISM  positive     72  \n",
       "24570  2020-10-31 03:58:44          GIF         CULTURE  positive     72  \n",
       "24571  2020-06-25 15:12:29          GIF         CULTURE  positive     72  \n",
       "24572  2020-12-17 16:32:57          GIF         CULTURE  positive     72  \n",
       "\n",
       "[24573 rows x 7 columns]"
      ]
     },
     "execution_count": 80,
     "metadata": {},
     "output_type": "execute_result"
    }
   ],
   "source": [
    "final_data"
   ]
  },
  {
   "cell_type": "code",
   "execution_count": 81,
   "id": "12dabccf",
   "metadata": {},
   "outputs": [
    {
     "data": {
      "text/plain": [
       "Content ID       0\n",
       "Reaction Type    0\n",
       "Datetime         0\n",
       "Content Type     0\n",
       "Category         0\n",
       "Sentiment        0\n",
       "Score            0\n",
       "dtype: int64"
      ]
     },
     "execution_count": 81,
     "metadata": {},
     "output_type": "execute_result"
    }
   ],
   "source": [
    "final_data.isnull().sum()"
   ]
  },
  {
   "cell_type": "code",
   "execution_count": 82,
   "id": "c79443ae",
   "metadata": {},
   "outputs": [],
   "source": [
    "final_data.to_csv('Final_Processed_Data.csv')"
   ]
  },
  {
   "cell_type": "code",
   "execution_count": 87,
   "id": "98f9157e",
   "metadata": {},
   "outputs": [
    {
     "data": {
      "text/html": [
       "<div>\n",
       "<style scoped>\n",
       "    .dataframe tbody tr th:only-of-type {\n",
       "        vertical-align: middle;\n",
       "    }\n",
       "\n",
       "    .dataframe tbody tr th {\n",
       "        vertical-align: top;\n",
       "    }\n",
       "\n",
       "    .dataframe thead th {\n",
       "        text-align: right;\n",
       "    }\n",
       "</style>\n",
       "<table border=\"1\" class=\"dataframe\">\n",
       "  <thead>\n",
       "    <tr style=\"text-align: right;\">\n",
       "      <th></th>\n",
       "      <th>Content ID</th>\n",
       "      <th>Reaction Type</th>\n",
       "      <th>Datetime</th>\n",
       "      <th>Content Type</th>\n",
       "      <th>Category</th>\n",
       "      <th>Sentiment</th>\n",
       "      <th>Score</th>\n",
       "    </tr>\n",
       "  </thead>\n",
       "  <tbody>\n",
       "    <tr>\n",
       "      <th>24568</th>\n",
       "      <td>435007a5-6261-4d8b-b0a4-55fdc189754b</td>\n",
       "      <td>adore</td>\n",
       "      <td>2020-10-04 22:26:33</td>\n",
       "      <td>audio</td>\n",
       "      <td>VEGANISM</td>\n",
       "      <td>positive</td>\n",
       "      <td>72</td>\n",
       "    </tr>\n",
       "    <tr>\n",
       "      <th>24569</th>\n",
       "      <td>435007a5-6261-4d8b-b0a4-55fdc189754b</td>\n",
       "      <td>adore</td>\n",
       "      <td>2020-09-18 10:50:50</td>\n",
       "      <td>audio</td>\n",
       "      <td>VEGANISM</td>\n",
       "      <td>positive</td>\n",
       "      <td>72</td>\n",
       "    </tr>\n",
       "    <tr>\n",
       "      <th>24570</th>\n",
       "      <td>4e4c9690-c013-4ee7-9e66-943d8cbd27b7</td>\n",
       "      <td>adore</td>\n",
       "      <td>2020-10-31 03:58:44</td>\n",
       "      <td>GIF</td>\n",
       "      <td>CULTURE</td>\n",
       "      <td>positive</td>\n",
       "      <td>72</td>\n",
       "    </tr>\n",
       "    <tr>\n",
       "      <th>24571</th>\n",
       "      <td>4e4c9690-c013-4ee7-9e66-943d8cbd27b7</td>\n",
       "      <td>adore</td>\n",
       "      <td>2020-06-25 15:12:29</td>\n",
       "      <td>GIF</td>\n",
       "      <td>CULTURE</td>\n",
       "      <td>positive</td>\n",
       "      <td>72</td>\n",
       "    </tr>\n",
       "    <tr>\n",
       "      <th>24572</th>\n",
       "      <td>4e4c9690-c013-4ee7-9e66-943d8cbd27b7</td>\n",
       "      <td>adore</td>\n",
       "      <td>2020-12-17 16:32:57</td>\n",
       "      <td>GIF</td>\n",
       "      <td>CULTURE</td>\n",
       "      <td>positive</td>\n",
       "      <td>72</td>\n",
       "    </tr>\n",
       "  </tbody>\n",
       "</table>\n",
       "</div>"
      ],
      "text/plain": [
       "                                 Content ID Reaction Type  \\\n",
       "24568  435007a5-6261-4d8b-b0a4-55fdc189754b         adore   \n",
       "24569  435007a5-6261-4d8b-b0a4-55fdc189754b         adore   \n",
       "24570  4e4c9690-c013-4ee7-9e66-943d8cbd27b7         adore   \n",
       "24571  4e4c9690-c013-4ee7-9e66-943d8cbd27b7         adore   \n",
       "24572  4e4c9690-c013-4ee7-9e66-943d8cbd27b7         adore   \n",
       "\n",
       "                  Datetime Content Type  Category Sentiment  Score  \n",
       "24568  2020-10-04 22:26:33        audio  VEGANISM  positive     72  \n",
       "24569  2020-09-18 10:50:50        audio  VEGANISM  positive     72  \n",
       "24570  2020-10-31 03:58:44          GIF   CULTURE  positive     72  \n",
       "24571  2020-06-25 15:12:29          GIF   CULTURE  positive     72  \n",
       "24572  2020-12-17 16:32:57          GIF   CULTURE  positive     72  "
      ]
     },
     "execution_count": 87,
     "metadata": {},
     "output_type": "execute_result"
    }
   ],
   "source": [
    "final_data.tail(5)"
   ]
  },
  {
   "cell_type": "code",
   "execution_count": 84,
   "id": "2d47b920",
   "metadata": {},
   "outputs": [
    {
     "data": {
      "text/plain": [
       "{'ANIMALS': [64, 67, 198, 199, 224, 225, 226, 241, 242, 243, 244, 247, 248, 249, 250, 251, 294, 295, 325, 328, 329, 339, 340, 341, 398, 399, 400, 403, 404, 405, 406, 407, 408, 441, 448, 469, 505, 506, 507, 508, 509, 510, 522, 523, 524, 525, 526, 556, 557, 558, 559, 614, 615, 635, 636, 637, 638, 639, 694, 708, 709, 710, 711, 719, 720, 741, 750, 767, 927, 928, 938, 939, 940, 945, 946, 981, 986, 987, 988, 1012, 1013, 1014, 1033, 1045, 1046, 1047, 1062, 1063, 1064, 1079, 1080, 1101, 1156, 1167, 1200, 1212, 1217, 1222, 1273, 1274, ...], 'COOKING': [54, 55, 167, 168, 169, 170, 171, 172, 173, 174, 175, 176, 215, 216, 217, 218, 219, 255, 256, 287, 288, 289, 313, 314, 337, 338, 393, 394, 409, 423, 424, 425, 426, 427, 428, 429, 439, 442, 443, 444, 481, 482, 492, 493, 494, 495, 571, 572, 619, 669, 670, 671, 743, 791, 828, 829, 830, 831, 832, 833, 879, 956, 957, 996, 999, 1000, 1001, 1002, 1030, 1031, 1032, 1034, 1035, 1042, 1043, 1044, 1070, 1089, 1090, 1100, 1120, 1124, 1136, 1137, 1138, 1139, 1207, 1208, 1287, 1308, 1310, 1311, 1379, 1380, 1381, 1382, 1383, 1422, 1423, 1424, ...], 'CULTURE': [102, 103, 104, 108, 109, 126, 127, 140, 141, 142, 143, 144, 146, 147, 165, 262, 263, 411, 416, 417, 418, 419, 420, 454, 455, 458, 501, 544, 562, 563, 568, 569, 570, 584, 603, 605, 663, 664, 665, 666, 667, 668, 681, 682, 718, 780, 781, 825, 862, 863, 876, 877, 878, 895, 896, 908, 909, 910, 911, 929, 930, 968, 969, 1026, 1027, 1067, 1068, 1069, 1094, 1098, 1099, 1187, 1188, 1189, 1213, 1271, 1303, 1304, 1306, 1307, 1327, 1328, 1372, 1413, 1414, 1415, 1449, 1450, 1451, 1492, 1493, 1494, 1508, 1509, 1510, 1511, 1524, 1525, 1597, 1616, ...], 'DOGS': [5, 6, 7, 43, 51, 52, 53, 73, 74, 75, 156, 157, 158, 159, 229, 230, 231, 252, 264, 277, 278, 302, 326, 382, 383, 392, 538, 539, 540, 610, 611, 612, 613, 712, 713, 714, 726, 836, 837, 900, 906, 917, 918, 931, 932, 933, 949, 950, 951, 960, 961, 962, 963, 964, 976, 977, 978, 979, 980, 1118, 1119, 1159, 1160, 1161, 1162, 1232, 1233, 1234, 1235, 1236, 1239, 1246, 1247, 1248, 1375, 1376, 1377, 1378, 1385, 1386, 1408, 1409, 1410, 1411, 1480, 1481, 1495, 1536, 1537, 1571, 1588, 1589, 1590, 1611, 1612, 1656, 1657, 1658, 1672, 1673, ...], 'EDUCATION': [37, 110, 111, 112, 180, 181, 189, 190, 200, 240, 315, 316, 317, 318, 319, 342, 374, 387, 395, 396, 397, 402, 459, 460, 461, 489, 490, 513, 514, 516, 517, 518, 519, 520, 609, 620, 629, 680, 716, 717, 771, 853, 854, 855, 856, 881, 882, 903, 904, 905, 913, 914, 982, 983, 984, 985, 1041, 1085, 1086, 1102, 1111, 1112, 1113, 1115, 1116, 1297, 1298, 1334, 1416, 1417, 1444, 1518, 1519, 1557, 1558, 1621, 1622, 1689, 1690, 1695, 1737, 1806, 1807, 1820, 1821, 1825, 1833, 1834, 1835, 1881, 1882, 1883, 1884, 1900, 1901, 1902, 1903, 1919, 1920, 1921, ...], 'FITNESS': [20, 65, 66, 68, 69, 70, 71, 119, 120, 121, 236, 272, 273, 274, 275, 276, 284, 293, 330, 331, 349, 356, 361, 362, 381, 422, 436, 437, 438, 473, 474, 475, 486, 487, 488, 564, 565, 566, 567, 734, 735, 736, 742, 794, 795, 807, 808, 809, 810, 811, 812, 838, 839, 840, 894, 947, 989, 990, 995, 1003, 1004, 1005, 1006, 1007, 1008, 1009, 1038, 1065, 1066, 1095, 1096, 1097, 1126, 1127, 1128, 1129, 1130, 1141, 1157, 1158, 1210, 1211, 1254, 1255, 1347, 1348, 1349, 1387, 1388, 1396, 1446, 1447, 1448, 1461, 1462, 1512, 1585, 1587, 1632, 1633, ...], 'FOOD': [15, 16, 17, 18, 19, 25, 26, 49, 50, 56, 97, 98, 99, 132, 193, 194, 195, 257, 258, 281, 282, 283, 298, 304, 305, 306, 307, 322, 368, 369, 370, 371, 401, 410, 445, 463, 464, 465, 466, 467, 483, 484, 485, 604, 628, 641, 642, 654, 655, 721, 722, 745, 746, 747, 754, 755, 756, 757, 847, 848, 849, 850, 851, 852, 886, 890, 901, 915, 916, 919, 920, 974, 975, 1036, 1037, 1125, 1175, 1176, 1177, 1178, 1179, 1180, 1181, 1214, 1215, 1216, 1218, 1219, 1220, 1221, 1263, 1264, 1265, 1331, 1332, 1333, 1373, 1374, 1454, 1455, ...], 'HEALTHY EATING': [3, 4, 48, 59, 60, 61, 62, 63, 76, 77, 78, 100, 101, 133, 134, 135, 151, 152, 153, 154, 155, 261, 343, 344, 345, 346, 347, 348, 353, 354, 355, 357, 358, 449, 527, 531, 546, 547, 580, 581, 582, 583, 590, 591, 592, 593, 594, 595, 616, 617, 618, 660, 661, 662, 700, 701, 702, 727, 728, 729, 730, 788, 789, 790, 801, 802, 803, 804, 805, 806, 883, 884, 922, 923, 924, 925, 926, 934, 935, 936, 937, 1226, 1227, 1237, 1238, 1249, 1268, 1269, 1270, 1295, 1362, 1363, 1364, 1384, 1412, 1456, 1457, 1463, 1464, 1465, ...], 'PUBLIC SPEAKING': [8, 9, 22, 23, 24, 184, 185, 186, 191, 192, 196, 197, 206, 207, 208, 209, 290, 332, 333, 334, 335, 336, 375, 376, 377, 385, 386, 431, 432, 433, 434, 536, 537, 542, 543, 560, 561, 651, 677, 678, 679, 715, 723, 724, 725, 844, 845, 846, 965, 966, 967, 1082, 1083, 1084, 1134, 1135, 1148, 1149, 1201, 1202, 1266, 1267, 1275, 1338, 1344, 1345, 1441, 1442, 1443, 1538, 1539, 1545, 1546, 1696, 1697, 1698, 1706, 1707, 1708, 1780, 1781, 1826, 1827, 1828, 1885, 1886, 1887, 1888, 1963, 1964, 2076, 2077, 2078, 2081, 2082, 2083, 2084, 2103, 2104, 2105, ...], 'SCIENCE': [10, 44, 45, 89, 90, 91, 95, 96, 116, 117, 118, 122, 123, 128, 129, 130, 139, 148, 149, 246, 265, 285, 286, 311, 312, 470, 471, 472, 491, 502, 503, 504, 548, 549, 761, 762, 763, 764, 835, 841, 891, 892, 893, 944, 952, 953, 954, 955, 997, 998, 1010, 1011, 1051, 1052, 1053, 1054, 1055, 1060, 1061, 1081, 1105, 1106, 1142, 1155, 1168, 1169, 1170, 1171, 1190, 1204, 1205, 1206, 1209, 1228, 1229, 1230, 1231, 1244, 1245, 1258, 1259, 1272, 1276, 1277, 1278, 1279, 1280, 1281, 1312, 1313, 1314, 1361, 1369, 1370, 1371, 1399, 1400, 1401, 1402, 1403, ...], 'SOCCER': [21, 31, 32, 33, 34, 35, 36, 105, 106, 107, 164, 201, 211, 227, 228, 232, 233, 237, 238, 239, 266, 267, 268, 269, 270, 299, 300, 301, 320, 321, 378, 379, 415, 530, 541, 545, 551, 599, 600, 601, 602, 653, 656, 657, 658, 659, 691, 692, 693, 695, 696, 697, 698, 699, 703, 704, 705, 706, 707, 758, 759, 760, 842, 843, 958, 959, 970, 971, 972, 973, 1023, 1087, 1088, 1122, 1123, 1143, 1165, 1166, 1329, 1330, 1335, 1336, 1337, 1354, 1355, 1356, 1389, 1390, 1438, 1439, 1440, 1552, 1553, 1554, 1555, 1556, 1618, 1677, 1678, 1679, ...], 'STUDYING': [0, 1, 2, 38, 39, 40, 79, 113, 114, 115, 125, 138, 182, 183, 271, 291, 292, 350, 351, 352, 388, 389, 412, 413, 414, 450, 456, 457, 585, 586, 587, 588, 589, 606, 652, 765, 766, 772, 773, 774, 775, 820, 821, 870, 871, 872, 873, 885, 1039, 1040, 1056, 1057, 1058, 1059, 1309, 1319, 1346, 1350, 1351, 1352, 1353, 1404, 1405, 1406, 1407, 1432, 1474, 1475, 1476, 1477, 1478, 1479, 1489, 1490, 1491, 1499, 1513, 1526, 1527, 1528, 1559, 1623, 1624, 1625, 1626, 1627, 1629, 1630, 1631, 1650, 1691, 1692, 1693, 1782, 1783, 1851, 1904, 1905, 1906, 1907, ...], 'TECHNOLOGY': [57, 58, 92, 93, 94, 145, 177, 178, 179, 187, 188, 222, 223, 234, 235, 259, 260, 363, 364, 365, 366, 367, 372, 435, 499, 500, 511, 512, 550, 576, 577, 578, 579, 607, 608, 621, 622, 623, 624, 625, 626, 627, 630, 631, 632, 640, 645, 646, 672, 673, 674, 675, 676, 683, 684, 685, 686, 687, 688, 689, 690, 737, 738, 739, 740, 818, 819, 822, 823, 824, 857, 858, 859, 860, 861, 874, 875, 897, 898, 899, 907, 912, 941, 942, 943, 992, 993, 994, 1028, 1029, 1050, 1073, 1074, 1114, 1182, 1183, 1184, 1185, 1186, 1203, ...], 'TENNIS': [11, 12, 13, 14, 27, 28, 29, 30, 80, 81, 82, 83, 210, 220, 221, 245, 253, 254, 303, 308, 309, 310, 430, 440, 446, 447, 468, 476, 477, 478, 479, 480, 515, 532, 533, 534, 535, 552, 553, 554, 555, 573, 574, 575, 647, 648, 649, 650, 751, 752, 753, 792, 793, 866, 867, 868, 869, 880, 991, 1024, 1025, 1107, 1108, 1109, 1110, 1144, 1145, 1147, 1163, 1164, 1172, 1173, 1174, 1223, 1224, 1225, 1282, 1283, 1284, 1291, 1292, 1293, 1294, 1365, 1366, 1367, 1368, 1418, 1419, 1420, 1421, 1436, 1437, 1507, 1540, 1541, 1549, 1550, 1551, 1592, ...], 'TRAVEL': [41, 42, 84, 85, 86, 87, 88, 124, 136, 137, 160, 161, 162, 163, 202, 203, 204, 205, 212, 279, 296, 297, 323, 324, 373, 380, 390, 391, 421, 496, 497, 498, 528, 529, 643, 644, 731, 732, 733, 744, 748, 749, 768, 769, 770, 776, 777, 778, 782, 783, 784, 785, 786, 787, 796, 797, 798, 799, 800, 813, 814, 826, 827, 864, 865, 887, 888, 889, 902, 948, 1015, 1016, 1017, 1018, 1019, 1020, 1021, 1022, 1048, 1049, 1091, 1092, 1093, 1103, 1104, 1117, 1121, 1146, 1150, 1191, 1192, 1193, 1194, 1195, 1196, 1197, 1198, 1199, 1256, 1257, ...], 'VEGANISM': [46, 47, 72, 131, 150, 166, 213, 214, 280, 327, 359, 360, 384, 451, 452, 453, 462, 521, 596, 597, 598, 633, 634, 779, 815, 816, 817, 834, 921, 1071, 1072, 1075, 1076, 1077, 1078, 1131, 1132, 1133, 1140, 1151, 1152, 1153, 1154, 1240, 1241, 1242, 1243, 1252, 1253, 1315, 1316, 1317, 1320, 1321, 1357, 1358, 1359, 1360, 1433, 1434, 1435, 1482, 1516, 1517, 1523, 1564, 1565, 1659, 1668, 1711, 1712, 1713, 1714, 1715, 1768, 1769, 1770, 1822, 1823, 1867, 1871, 1898, 1899, 1996, 1997, 1998, 2006, 2007, 2008, 2009, 2058, 2059, 2060, 2146, 2147, 2148, 2149, 2184, 2282, 2336, ...]}"
      ]
     },
     "execution_count": 84,
     "metadata": {},
     "output_type": "execute_result"
    }
   ],
   "source": [
    "grp_by_category=final_data.groupby('Category')\n",
    "grp_by_category.groups"
   ]
  },
  {
   "cell_type": "code",
   "execution_count": 91,
   "id": "e017bb33",
   "metadata": {},
   "outputs": [],
   "source": [
    "Top_5_Categories=grp_by_category['Score'].sum()"
   ]
  },
  {
   "cell_type": "code",
   "execution_count": 97,
   "id": "bf62d5a7",
   "metadata": {},
   "outputs": [],
   "source": [
    "Top_5_Categories=Top_5_Categories.sort_values(ascending=False).head(5)"
   ]
  },
  {
   "cell_type": "code",
   "execution_count": 98,
   "id": "8099fbc5",
   "metadata": {},
   "outputs": [
    {
     "data": {
      "text/plain": [
       "Category\n",
       "ANIMALS           74965\n",
       "SCIENCE           71168\n",
       "HEALTHY EATING    69339\n",
       "TECHNOLOGY        68738\n",
       "FOOD              66676\n",
       "Name: Score, dtype: int64"
      ]
     },
     "execution_count": 98,
     "metadata": {},
     "output_type": "execute_result"
    }
   ],
   "source": [
    "Top_5_Categories"
   ]
  },
  {
   "cell_type": "code",
   "execution_count": 99,
   "id": "401dbe94",
   "metadata": {},
   "outputs": [],
   "source": [
    "Top_5_Categories.to_csv('Top_5_Categories.csv')"
   ]
  },
  {
   "cell_type": "code",
   "execution_count": null,
   "id": "c7ebd01a",
   "metadata": {},
   "outputs": [],
   "source": []
  }
 ],
 "metadata": {
  "kernelspec": {
   "display_name": "Python 3 (ipykernel)",
   "language": "python",
   "name": "python3"
  },
  "language_info": {
   "codemirror_mode": {
    "name": "ipython",
    "version": 3
   },
   "file_extension": ".py",
   "mimetype": "text/x-python",
   "name": "python",
   "nbconvert_exporter": "python",
   "pygments_lexer": "ipython3",
   "version": "3.11.7"
  }
 },
 "nbformat": 4,
 "nbformat_minor": 5
}
